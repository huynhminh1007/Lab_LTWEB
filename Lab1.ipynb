{
  "nbformat": 4,
  "nbformat_minor": 0,
  "metadata": {
    "colab": {
      "provenance": [],
      "authorship_tag": "ABX9TyPtH0htijEd2MQudK9UUzGY",
      "include_colab_link": true
    },
    "kernelspec": {
      "name": "python3",
      "display_name": "Python 3"
    },
    "language_info": {
      "name": "python"
    }
  },
  "cells": [
    {
      "cell_type": "markdown",
      "metadata": {
        "id": "view-in-github",
        "colab_type": "text"
      },
      "source": [
        "<a href=\"https://colab.research.google.com/github/huynhminh1007/Lab_LTWEB/blob/main/Lab1.ipynb\" target=\"_parent\"><img src=\"https://colab.research.google.com/assets/colab-badge.svg\" alt=\"Open In Colab\"/></a>"
      ]
    },
    {
      "cell_type": "markdown",
      "source": [
        "**Task 1.1**\n"
      ],
      "metadata": {
        "id": "XRQJStapzrwH"
      }
    },
    {
      "cell_type": "code",
      "source": [
        "n = int(input(\"Enter n:\"))\n",
        "lst = []\n",
        "\n",
        "for i in range(n):\n",
        "  lst.append(int(input(f'n{i}:')))\n",
        "\n",
        "print(\"list:\", lst)\n",
        "print(f'max = {max(lst)}')\n",
        "print(f'min = {min(lst)}')\n",
        "print(f'sum = {sum(lst)}')\n",
        "\n",
        "lst_sorted = sorted(lst)\n",
        "print('list sorted:', lst_sorted)\n",
        "\n",
        "count_positive = 0\n",
        "count_negative = 0\n",
        "\n",
        "for v in lst:\n",
        "  if v > 0:\n",
        "    count_positive += 1\n",
        "  elif v < 0:\n",
        "    count_negative += 1\n",
        "\n",
        "print('count positive:', count_positive)\n",
        "print('count negative:', count_negative)"
      ],
      "metadata": {
        "id": "eMpmfc5_jiKP"
      },
      "execution_count": null,
      "outputs": []
    },
    {
      "cell_type": "markdown",
      "source": [
        "**Task 1.2**"
      ],
      "metadata": {
        "id": "vg-N_dRCWhSM"
      }
    },
    {
      "cell_type": "code",
      "source": [
        "def compute_s(n):\n",
        "  factory = 1\n",
        "  sum = 0\n",
        "\n",
        "  for i in range(1, n + 1):\n",
        "    factory *= i\n",
        "    sum += factory\n",
        "  return sum\n",
        "\n",
        "n = int(input(\"Enter n: \"))\n",
        "print(f'S({n}) = {compute_s(n)}')"
      ],
      "metadata": {
        "id": "19C61gxbWnQf"
      },
      "execution_count": null,
      "outputs": []
    },
    {
      "cell_type": "markdown",
      "source": [
        "**Task 1.3**"
      ],
      "metadata": {
        "id": "j09AMjWaX1pF"
      }
    },
    {
      "cell_type": "code",
      "source": [
        "class Post:\n",
        "  def __init__(self, content, subject, likes=0):\n",
        "    self.__content = content\n",
        "    self.__subject = subject\n",
        "    self.__likes = likes\n",
        "\n",
        "  @property\n",
        "  def likes(self):\n",
        "    return self.__likes\n",
        "\n",
        "  def __str__(self):\n",
        "    return f\"Post[content={self.__content}, subject={self.__subject}, likes={self.__likes}]\"\n",
        "\n",
        "class Account:\n",
        "  def __init__(self, name, email, country, friends=[], posts=[]):\n",
        "    self.__name = name\n",
        "    self.__email = email\n",
        "    self.__country = country\n",
        "    self.__friends = friends\n",
        "    self.__posts = posts\n",
        "\n",
        "  @property\n",
        "  def name(self):\n",
        "    return self.__name\n",
        "\n",
        "  @property\n",
        "  def country(self):\n",
        "    return self.__country\n",
        "\n",
        "  @property\n",
        "  def posts(self):\n",
        "    return self.__posts\n",
        "\n",
        "  def get_max_like_post(self):\n",
        "    return max((p.likes for p in self.__posts), default=0)\n",
        "\n",
        "  def get_max_like_post_by_friend(self):\n",
        "    return max((f.get_max_like_post() for f in self.__friends), default=0)\n",
        "\n",
        "  def __str__(self):\n",
        "    friends_str = ' '.join(str(f) for f in self.__friends)\n",
        "    posts_str = ' '.join(str(p) for p in self.__posts)\n",
        "    return f\"Account[name={self.__name}, email={self.__email}, country={self.__country}, friends={friends_str}, posts={posts_str}]\"\n",
        "\n",
        "class AccountManager:\n",
        "  def __init__(self, accounts=[]):\n",
        "    self.__accounts = accounts\n",
        "\n",
        "  def group_accounts_by_post_like(self):\n",
        "    grouped_accounts = {False : [], True : []}\n",
        "\n",
        "    for a in self.__accounts:\n",
        "      if(len(a.posts) < 10):\n",
        "        grouped_accounts[False].append(a)\n",
        "      else:\n",
        "        grouped_accounts[True].append(a)\n",
        "\n",
        "    return grouped_accounts\n",
        "\n",
        "  def filter_accounts(self, country):\n",
        "    lst = []\n",
        "    for a in self.__accounts:\n",
        "      if a.country == country:\n",
        "        lst.append(a)\n",
        "    return sorted(lst, key=lambda account: (-len(account.posts), account.name))\n",
        "\n",
        "p1 = Post('ct1', 'sj1', 1)\n",
        "p2 = Post('ct2', 'sj2', 2)\n",
        "p3 = Post('ct3', 'sj3', 3)\n",
        "p4 = Post('ct4', 'sj4', 4)\n",
        "p5 = Post('ct5', 'sj5', 5)\n",
        "\n",
        "a1 = Account('Minh', 'minh@gmail.com', 'VN')\n",
        "a2 = Account('Minh2', 'minh2@gmail.com', 'VN', posts=[p1, p4])\n",
        "a3 = Account('Minh3', 'minh3@gmail.com', 'VN', friends=[a1, a2], posts=[p1, p2, p3])\n",
        "a4 = Account('Minh4', 'minh4@gmail.com', 'VN', friends=[a1, a2, a3], posts=[p1, p2, p3, p5])\n",
        "a5 = Account('Minh5', 'minh5@gmail.com', 'US', friends=[a1, a2, a3, a4], posts=[p1, p2, p3, p4, p5])\n",
        "\n",
        "# test get_max_like_post_by_friend\n",
        "print(f'get_max_like_post_by_friend of a5: {a5.get_max_like_post_by_friend()}')\n",
        "\n",
        "# create account manager\n",
        "account_manager = AccountManager([a1, a2, a3, a4])\n",
        "\n",
        "# test group_accounts_by_post_like\n",
        "for k, v in account_manager.group_accounts_by_post_like().items():\n",
        "  print(f\"key: {k}, value: {' '.join(str(value) for value in v)}\")\n",
        "\n",
        "# test filter_accounts\n",
        "str_filter_account = \"\\n\".join(str(a) for a in account_manager.filter_accounts(\"VN\"))\n",
        "print(f'filter account in VN: \\n{str_filter_account}')"
      ],
      "metadata": {
        "id": "dJLsP4qf0E-M"
      },
      "execution_count": null,
      "outputs": []
    },
    {
      "cell_type": "markdown",
      "source": [
        "**Task 2.1**"
      ],
      "metadata": {
        "id": "GtkXzdv5GqX5"
      }
    },
    {
      "cell_type": "code",
      "source": [
        "import numpy as np\n",
        "\n",
        "arr = np.arange(10, 26)\n",
        "\n",
        "print(\"arr:\", arr)\n",
        "print(\"reverse arr:\", np.flip(arr))"
      ],
      "metadata": {
        "id": "YEzCEyPtDrpJ"
      },
      "execution_count": null,
      "outputs": []
    },
    {
      "cell_type": "markdown",
      "source": [
        "**Task 2.2**"
      ],
      "metadata": {
        "id": "LecCFru-_VTl"
      }
    },
    {
      "cell_type": "code",
      "source": [
        "arr = np.array([1, 2, 3, 4])\n",
        "\n",
        "print(\"Original array:\", arr)\n",
        "print(\"Repeating 2 times:\", np.tile(arr, 2))\n",
        "print(\"Repeating 3 times:\", np.tile(arr, 3))"
      ],
      "metadata": {
        "id": "psaZOlLj_cWo"
      },
      "execution_count": null,
      "outputs": []
    },
    {
      "cell_type": "markdown",
      "source": [
        "**Task 2.3**"
      ],
      "metadata": {
        "id": "XCGCzKPlABZT"
      }
    },
    {
      "cell_type": "code",
      "source": [
        "arr = np.array([(0.42, 0.48, 0.32), (0.74, 0.58, 0.38), (0.51, 0.34, 0.15)])\n",
        "\n",
        "print(\"Original array:\\n\", arr)\n",
        "\n",
        "arr[arr > 0.5] = 0.5\n",
        "print(\"Result array:\\n\", arr)"
      ],
      "metadata": {
        "id": "a4tmBsLtAE9o"
      },
      "execution_count": null,
      "outputs": []
    }
  ]
}